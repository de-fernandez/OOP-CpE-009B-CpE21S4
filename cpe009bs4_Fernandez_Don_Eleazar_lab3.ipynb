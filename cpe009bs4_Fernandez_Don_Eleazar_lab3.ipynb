{
  "nbformat": 4,
  "nbformat_minor": 0,
  "metadata": {
    "colab": {
      "provenance": [],
      "authorship_tag": "ABX9TyPlFO5wjNlkrEioFnWEGUgB",
      "include_colab_link": true
    },
    "kernelspec": {
      "name": "python3",
      "display_name": "Python 3"
    },
    "language_info": {
      "name": "python"
    }
  },
  "cells": [
    {
      "cell_type": "markdown",
      "metadata": {
        "id": "view-in-github",
        "colab_type": "text"
      },
      "source": [
        "<a href=\"https://colab.research.google.com/github/de-fernandez/OOP-CpE-009B-CpE21S4/blob/main/cpe009bs4_Fernandez_Don_Eleazar_lab3.ipynb\" target=\"_parent\"><img src=\"https://colab.research.google.com/assets/colab-badge.svg\" alt=\"Open In Colab\"/></a>"
      ]
    },
    {
      "cell_type": "markdown",
      "source": [
        "> <h1> Laboratory Activity 3: Inheritance, Encapsulation, and Abstraction </h1>"
      ],
      "metadata": {
        "id": "QG3wJ4AWzTpz"
      }
    },
    {
      "cell_type": "code",
      "source": [
        "class Employee():\n",
        "    def __init__(self, emp_id, emp_name, emp_address):\n",
        "        self.emp_id = emp_id\n",
        "        self.emp_name = emp_name\n",
        "        self.emp_address = emp_address\n",
        "\n",
        "    def calculate_salary(self, days_of_work):\n",
        "        pass\n",
        "\n",
        "    def display_employee_details(self):\n",
        "        print(f\"Employee ID: {self.emp_id}\")\n",
        "        print(f\"Name: {self.emp_name}\")\n",
        "        print(f\"Address: {self.emp_address}\")\n",
        "\n",
        "class FullTime(Employee):\n",
        "    def __init__(self, emp_id, emp_name, emp_address, allowance, rate):\n",
        "        super().__init__(emp_id, emp_name, emp_address)\n",
        "        self.allowance = allowance\n",
        "        self.rate = rate\n",
        "\n",
        "    def calculate_salary(self, days_of_work):\n",
        "        return (self.rate * days_of_work) + self.allowance\n",
        "\n",
        "    def display_employee_details(self):\n",
        "        super().display_employee_details()\n",
        "        print(f\"Allowance: {self.allowance}\")\n",
        "\n",
        "class PartTime(Employee):\n",
        "    def __init__(self, emp_id, emp_name, emp_address, rate):\n",
        "        super().__init__(emp_id, emp_name, emp_address)\n",
        "        self.rate = rate\n",
        "\n",
        "    def calculate_salary(self, days_of_work):\n",
        "        return self.rate * days_of_work\n",
        "\n",
        "    def display_employee_details(self):\n",
        "        super().display_employee_details()\n",
        "        print(f\"Rate: {self.rate}\")\n",
        "\n",
        "class Salary:\n",
        "    def __init__(self, salary_id, employee, days_of_work, cut_off_date):\n",
        "        self.salary_id = salary_id\n",
        "        self.employee = employee\n",
        "        self.days_of_work = days_of_work\n",
        "        self.cut_off_date = cut_off_date\n",
        "\n",
        "    def display_salary(self):\n",
        "        self.employee.display_employee_details()\n",
        "        total_salary = self.employee.calculate_salary(self.days_of_work)\n",
        "        print(f\"Salary ID: {self.salary_id}, Total Salary: {total_salary}, Cut-off Date: {self.cut_off_date}\")\n",
        "        print(\"=\" * 40)\n",
        "\n",
        "def main():\n",
        "    full_time_emp = FullTime(1, \"Marcus\", \"Pasig City\", allowance = 8000, rate = 1800)\n",
        "    part_time_emp = PartTime(2, \"Merida\", \"Manila City\", rate = 500)\n",
        "    cut_off_date = date.today()\n",
        "\n",
        "    salary1 = Salary(101, full_time_emp, days_of_work = 24, cut_off_date=cut_off_date)\n",
        "    salary2 = Salary(102, part_time_emp, days_of_work = 12, cut_off_date=cut_off_date)\n",
        "\n",
        "    salary1.display_salary()\n",
        "    salary2.display_salary()\n",
        "\n",
        "if __name__ == \"__main__\":\n",
        "    main()"
      ],
      "metadata": {
        "colab": {
          "base_uri": "https://localhost:8080/"
        },
        "id": "t6r9wtabmN5X",
        "outputId": "87ddb4e0-9f2e-49dc-e525-a8dc8b3e2814"
      },
      "execution_count": 26,
      "outputs": [
        {
          "output_type": "stream",
          "name": "stdout",
          "text": [
            "Employee ID: 1\n",
            "Name: Marcus\n",
            "Address: Pasig City\n",
            "Allowance: 8000\n",
            "Salary ID: 101, Total Salary: 51200, Cut-off Date: 2024-09-23\n",
            "========================================\n",
            "Employee ID: 2\n",
            "Name: Merida\n",
            "Address: Manila City\n",
            "Rate: 500\n",
            "Salary ID: 102, Total Salary: 6000, Cut-off Date: 2024-09-23\n",
            "========================================\n"
          ]
        }
      ]
    }
  ]
}