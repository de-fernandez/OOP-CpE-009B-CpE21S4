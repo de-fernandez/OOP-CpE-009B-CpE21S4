{
  "nbformat": 4,
  "nbformat_minor": 0,
  "metadata": {
    "colab": {
      "provenance": [],
      "authorship_tag": "ABX9TyNhmp9i2ewIq/fgorcLUwuU",
      "include_colab_link": true
    },
    "kernelspec": {
      "name": "python3",
      "display_name": "Python 3"
    },
    "language_info": {
      "name": "python"
    }
  },
  "cells": [
    {
      "cell_type": "markdown",
      "metadata": {
        "id": "view-in-github",
        "colab_type": "text"
      },
      "source": [
        "<a href=\"https://colab.research.google.com/github/de-fernandez/OOP-CpE-009B-CpE21S4/blob/main/Exercise_1_Fernandez%2C_Don_Eleazar_CpE_21S4%2C_CpE_009B.ipynb\" target=\"_parent\"><img src=\"https://colab.research.google.com/assets/colab-badge.svg\" alt=\"Open In Colab\"/></a>"
      ]
    },
    {
      "cell_type": "markdown",
      "source": [
        "> <h1> Exercise 1 </h1>"
      ],
      "metadata": {
        "id": "Pn8UgoBpF0b5"
      }
    },
    {
      "cell_type": "code",
      "execution_count": 26,
      "metadata": {
        "colab": {
          "base_uri": "https://localhost:8080/"
        },
        "id": "yyIXCRRaFhlT",
        "outputId": "7fef4d3a-bb86-4ee2-89b4-5b0cf6319314"
      },
      "outputs": [
        {
          "output_type": "stream",
          "name": "stdout",
          "text": [
            "My name is Ana with an age of 19 and was born in January 3, 2005.\n",
            "My name is Mark with an age of 20 and was born in April 7, 2004.\n",
            "My name is Nigel with an age of 40 and was born in June 10, 1984.\n",
            "\n",
            "\n",
            "Name: Nigel\n",
            "Age: 40\n",
            "Birthdate: June 10, 1984\n"
          ]
        }
      ],
      "source": [
        "#Super class constructor\n",
        "class Person:\n",
        "  def __init__(self, name, age, birthday):\n",
        "    self.name = name\n",
        "    self.age = age\n",
        "    self.birthday = birthday\n",
        "\n",
        "  def person_attribute(self):\n",
        "    return f\"My name is {self.name} with an age of {self.age} and was born in {self.birthday}.\"\n",
        "\n",
        "class Teacher(Person): #Subclass\n",
        "  pass\n",
        "\n",
        "class Student(Person): #Subclass\n",
        "  pass\n",
        "\n",
        "#Object instantiation\n",
        "person = Person(\"Ana\", 19, \"January 3, 2005\")\n",
        "print(person.person_attribute())\n",
        "student = Student(\"Mark\", 20, \"April 7, 2004\")\n",
        "print(student.person_attribute())\n",
        "teacher = Teacher(\"Nigel\", 40, \"June 10, 1984\")\n",
        "print(teacher.person_attribute())\n",
        "print(\"\\n\")\n",
        "print(\"Name:\", teacher.name)\n",
        "print(\"Age:\", teacher.age)\n",
        "print(\"Birthdate:\", teacher.birthday)"
      ]
    },
    {
      "cell_type": "markdown",
      "source": [
        "<h1> Challenge 1! </h1>"
      ],
      "metadata": {
        "id": "MsQKh8oGTP1a"
      }
    },
    {
      "cell_type": "markdown",
      "source": [
        "Challenging Python Problem:\n",
        "<br> </br>\n",
        "Create a python programthat has the following:\n",
        "1. Super class named as Shapes.\n",
        "2. Sub classes: Rectangle, Square.\n",
        "3. Methods: Perimeter(), Area().\n",
        "4. Object name: rectangle, square.\n",
        "5. Inherits the attributes of Super class self.side = side."
      ],
      "metadata": {
        "id": "M1AWJhdmTUWi"
      }
    },
    {
      "cell_type": "code",
      "source": [
        "#Superclass\n",
        "class Shapes:\n",
        "  def __init__(self, side1, side2, side3):\n",
        "    self.side1 = side1\n",
        "    self.side2 = side2\n",
        "    self.side3 = side3\n",
        "\n",
        "#Subclass\n",
        "class Rectangle(Shapes):\n",
        "  pass\n",
        "  def perimeter(self):\n",
        "    return (self.side1 + self.side2) * 2\n",
        "\n",
        "  def area(self):\n",
        "    return (self.side1 * self.side2)\n",
        "\n",
        "  def __str__(self):\n",
        "    return f\"The area of the rectangle is {self.area()} and the perimeter is {self.perimeter()}.\"\n",
        "\n",
        "class Square(Shapes):\n",
        "  pass\n",
        "  def perimeter(self):\n",
        "    return (self.side3 * 4)\n",
        "\n",
        "  def area(self):\n",
        "    return (self.side3 * 2)\n",
        "\n",
        "  def __str__(self):\n",
        "    return f\"The area of the square is {self.area()} and the perimeter is {self.perimeter()}.\"\n",
        "\n",
        "rectangle = Rectangle(2, 4, 0)\n",
        "print(rectangle)\n",
        "square = Square(0, 0, 8)\n",
        "print(square)"
      ],
      "metadata": {
        "colab": {
          "base_uri": "https://localhost:8080/"
        },
        "id": "4qeJXincU1H6",
        "outputId": "893478d3-2b35-4c6e-e11e-b0e229025127"
      },
      "execution_count": 51,
      "outputs": [
        {
          "output_type": "stream",
          "name": "stdout",
          "text": [
            "The area of the rectangle is 8 and the perimeter is 12.\n",
            "The area of the square is 16 and the perimeter is 32.\n"
          ]
        }
      ]
    }
  ]
}